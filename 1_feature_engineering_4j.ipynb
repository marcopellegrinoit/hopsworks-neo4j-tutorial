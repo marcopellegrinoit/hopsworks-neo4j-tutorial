{
 "cells": [
  {
   "cell_type": "markdown",
   "id": "1dca07a0",
   "metadata": {},
   "source": [
    "# <span style=\"font-width:bold; font-size: 3rem; color:#1EB182;\"> **Hopsworks Feature Store** </span><span style=\"font-width:bold; font-size: 3rem; color:#333;\">- Part 01: Load, Engineer & Connect</span>\n",
    "\n",
    "## <span style=\"color:#ff5f27;\"> 📝 Imports </span>"
   ]
  },
  {
   "cell_type": "code",
   "execution_count": null,
   "id": "91c5844b",
   "metadata": {},
   "outputs": [],
   "source": [
    "import pandas as pd\n",
    "from graphdatascience import GraphDataScience"
   ]
  },
  {
   "cell_type": "code",
   "execution_count": null,
   "id": "53d4bd09",
   "metadata": {},
   "outputs": [],
   "source": [
    "'''\n",
    "NEO4J_URI = \"neo4j://...\"\n",
    "NEO4J_USER = \"...\"\n",
    "NEO4J_PASSWORD = \"...\"\n",
    "DATABASE_NAME = \"...\"\n",
    "'''"
   ]
  },
  {
   "cell_type": "markdown",
   "id": "b96b4218",
   "metadata": {},
   "source": [
    "## <span style=\"color:#ff5f27;\"> 💽 Loading Graph from Neo4J </span>\n"
   ]
  },
  {
   "cell_type": "code",
   "execution_count": null,
   "id": "2d6b25f0",
   "metadata": {},
   "outputs": [],
   "source": [
    "gds = GraphDataScience(NEO4J_URI, auth=(NEO4J_USER, NEO4J_PASSWORD), database=DATABASE_NAME)"
   ]
  },
  {
   "cell_type": "code",
   "execution_count": null,
   "id": "c9d24c2d",
   "metadata": {},
   "outputs": [],
   "source": [
    "gds.graph.list()"
   ]
  },
  {
   "cell_type": "code",
   "execution_count": null,
   "id": "4ba89878",
   "metadata": {},
   "outputs": [],
   "source": [
    "port_routes = gds.graph.get(\"portRoutes2\")"
   ]
  },
  {
   "cell_type": "code",
   "execution_count": null,
   "id": "935cd10a",
   "metadata": {},
   "outputs": [],
   "source": [
    "port_routes"
   ]
  },
  {
   "cell_type": "code",
   "execution_count": null,
   "id": "9d881b87",
   "metadata": {},
   "outputs": [],
   "source": [
    "port_routes.node_properties()"
   ]
  },
  {
   "cell_type": "code",
   "execution_count": null,
   "id": "0554f119",
   "metadata": {},
   "outputs": [],
   "source": [
    "port_routes.name()"
   ]
  },
  {
   "cell_type": "markdown",
   "id": "646a039f",
   "metadata": {},
   "source": [
    "## <span style=\"color:#ff5f27;\"> 🛠️ Graph Feature Engineering using Neo4J APIs</span>\n"
   ]
  },
  {
   "cell_type": "code",
   "execution_count": null,
   "id": "f3884fe7",
   "metadata": {},
   "outputs": [],
   "source": [
    "distance_km_df = gds.graph.relationshipProperty.stream(port_routes,  node_properties=\"distance\")\n",
    "distance_km_df = distance_km_df.dropna()\n",
    "distance_km_df.columns = [\"source_node_id\", \"target_node_id\", \"relationshipType\", \"distance_km\"]\n",
    "distance_km_df = distance_km_df[[\"source_node_id\", \"target_node_id\", \"distance_km\"]]\n",
    "distance_km_df"
   ]
  },
  {
   "cell_type": "code",
   "execution_count": null,
   "id": "7f31cd31",
   "metadata": {},
   "outputs": [],
   "source": [
    "node_embeddings_df = gds.node2vec.stream(port_routes) \n",
    "node_embeddings_df"
   ]
  },
  {
   "cell_type": "code",
   "execution_count": null,
   "id": "9cf322e2",
   "metadata": {},
   "outputs": [],
   "source": [
    "len(node_embeddings_df.embedding.values[0])"
   ]
  },
  {
   "cell_type": "code",
   "execution_count": null,
   "id": "5c7a3da7",
   "metadata": {},
   "outputs": [],
   "source": [
    "gds.shortestPath.dijkstra.stream(port_routes, sourceNode=2406, targetNode=2404)\n"
   ]
  },
  {
   "cell_type": "code",
   "execution_count": null,
   "id": "5c18fa4c",
   "metadata": {},
   "outputs": [],
   "source": [
    "gds.shortestPath.dijkstra.stream(port_routes, sourceNode=2358, targetNode=2378)"
   ]
  },
  {
   "cell_type": "code",
   "execution_count": null,
   "id": "6adacae2",
   "metadata": {},
   "outputs": [],
   "source": [
    "trip_df = gds.run_cypher(\n",
    "    \"MATCH (p) RETURN p.trip_id, p.arrival_time, p.destination_port, p.lon, p.departure_time, p.lat, p.departure_port\"\n",
    ")\n",
    "trip_df.dropna(subset = [\"p.trip_id\"], inplace=True)\n",
    "trip_df.dropna(inplace=True)"
   ]
  },
  {
   "cell_type": "code",
   "execution_count": null,
   "id": "2d4df68c",
   "metadata": {},
   "outputs": [],
   "source": [
    "trip_df"
   ]
  },
  {
   "cell_type": "code",
   "execution_count": null,
   "id": "bbe70c72",
   "metadata": {},
   "outputs": [],
   "source": [
    "distances = []\n",
    "existent = []\n",
    "trip_df = trip_df[trip_df[\"p.departure_port\"] != trip_df[\"p.destination_port\"]]\n",
    "for departure_port,destination_port in trip_df[[\"p.departure_port\", \"p.destination_port\"]].values.tolist():\n",
    "    if not [departure_port,destination_port] in existent:\n",
    "        existent.append([departure_port,destination_port])\n",
    "        distances.append(gds.shortestPath.dijkstra.stream(port_routes, sourceNode=gds.find_node_id([\"Port\"], {\"port_code\": departure_port}), \n",
    "                                                          targetNode=gds.find_node_id([\"Port\"], {\"port_code\": destination_port}))\n",
    "                         [[\"sourceNode\", \"targetNode\", \"totalCost\", \"nodeIds\", \"costs\"]].to_dict())"
   ]
  },
  {
   "cell_type": "code",
   "execution_count": null,
   "id": "f852da27",
   "metadata": {},
   "outputs": [],
   "source": [
    "records = []\n",
    "for r in distances:\n",
    "    try:\n",
    "        records.append({\"sourceNode\": r['sourceNode'][0], \"targetNode\": r['targetNode'][0], \"nodeIds\": r['nodeIds'][0], \"costs\": r['costs'][0]})\n",
    "    except:\n",
    "        pass"
   ]
  },
  {
   "cell_type": "code",
   "execution_count": null,
   "id": "1c77f765",
   "metadata": {},
   "outputs": [],
   "source": [
    "distances_df = pd.DataFrame.from_records(records)\n",
    "distances_df[\"hops\"] = distances_df.nodeIds.map(lambda x: len(x))\n",
    "distances_df = distances_df[distances_df.hops > 2]"
   ]
  },
  {
   "cell_type": "code",
   "execution_count": null,
   "id": "d5903209",
   "metadata": {},
   "outputs": [],
   "source": [
    "distances_df"
   ]
  },
  {
   "cell_type": "code",
   "execution_count": null,
   "id": "9c901e34",
   "metadata": {},
   "outputs": [],
   "source": [
    "node_embeddings_df.columns = ['nodeId', 'source_node_embedding']\n",
    "port_embeddings_df = node_embeddings_df.merge(distances_df, left_on=[\"nodeId\"], right_on=[\"sourceNode\"])\n",
    "port_embeddings_df.columns = ['node_id', 'source_node_embedding', 'source_node', 'target_node', 'node_ids', 'costs', 'hops']\n",
    "node_embeddings_df.columns = ['node_id', 'targed_node_embedding']\n",
    "#port_embeddings_df = node_embeddings_df.merge(port_embeddings_df, left_on=[\"node_id\"], right_on=[\"target_node\"])\n",
    "port_embeddings_df"
   ]
  },
  {
   "cell_type": "code",
   "execution_count": null,
   "id": "6ea7a45d",
   "metadata": {},
   "outputs": [],
   "source": [
    "node_embeddings_df"
   ]
  },
  {
   "cell_type": "code",
   "execution_count": null,
   "id": "4a6f1513",
   "metadata": {},
   "outputs": [],
   "source": [
    "port_embeddings_df = port_embeddings_df.merge(node_embeddings_df, left_on=[\"target_node\"], right_on=[\"node_id\"])\n",
    "port_embeddings_df = port_embeddings_df[['source_node_embedding', 'source_node', 'target_node', 'node_ids', 'costs', 'hops', 'targed_node_embedding']]\n",
    "emb_hops = port_embeddings_df.copy()"
   ]
  },
  {
   "cell_type": "code",
   "execution_count": null,
   "id": "9a131dec",
   "metadata": {},
   "outputs": [],
   "source": [
    "port_embeddings_df = emb_hops[[\"source_node\", \"target_node\", \"source_node_embedding\", \"targed_node_embedding\"]]\n",
    "port_embeddings_df.columns =[\"source_node_id\", \"target_node_id\", \"source_node_embedding\", \"targed_node_embedding\"]\n",
    "port_embeddings_df"
   ]
  },
  {
   "cell_type": "code",
   "execution_count": null,
   "id": "3ec9bf73",
   "metadata": {},
   "outputs": [],
   "source": [
    "emb_hops = emb_hops[[\"source_node\", \"target_node\", \"node_ids\", \"hops\"]]\n",
    "emb_hops.columns = [\"source_node_id\", \"target_node_id\", \"hop_node_ids\", \"hops\"]"
   ]
  },
  {
   "cell_type": "code",
   "execution_count": null,
   "id": "bf467d79",
   "metadata": {},
   "outputs": [],
   "source": [
    "emb_hops"
   ]
  },
  {
   "cell_type": "code",
   "execution_count": null,
   "id": "35dcd3a6",
   "metadata": {},
   "outputs": [],
   "source": [
    "distance_km_df[(distance_km_df.source_node_id == 2364) & (distance_km_df.target_node_id ==2371)]"
   ]
  },
  {
   "cell_type": "code",
   "execution_count": null,
   "id": "c7fca830",
   "metadata": {},
   "outputs": [],
   "source": [
    "distance_km_df"
   ]
  },
  {
   "cell_type": "code",
   "execution_count": null,
   "id": "c1de2810",
   "metadata": {},
   "outputs": [],
   "source": [
    "from itertools import islice\n",
    "\n",
    "def sliding_window(elements, window_size):\n",
    "    \n",
    "    if len(elements) <= window_size:\n",
    "       return elements\n",
    "    for i in range(len(elements)):\n",
    "        result = elements[i:i+window_size]\n",
    "        if len(result) > 1:\n",
    "            yield(elements[i:i+window_size])\n",
    "\n",
    "\n",
    "def estimate_dist(x):\n",
    "    distance = 0\n",
    "    for i in sliding_window(x, window_size=2):\n",
    "        tmp_df = distance_km_df[(distance_km_df.source_node_id == i[0]) & (distance_km_df.target_node_id ==i[1])]\n",
    "        distance += tmp_df.distance_km.values[0]\n",
    "    return distance \n",
    "        \n",
    "emb_hops[\"distance_km\"]=  emb_hops.hop_node_ids.map(lambda x: estimate_dist(x))\n",
    "emb_hops"
   ]
  },
  {
   "cell_type": "markdown",
   "id": "f69b53a7",
   "metadata": {},
   "source": [
    "## <span style=\"color:#ff5f27;\"> 🪄 Feature Groups Creation</span>\n",
    "\n",
    "### Feature Groups\n",
    "\n",
    "A `Feature Groups` is a logical grouping of features, and experience has shown, that this grouping generally originates from the features being derived from the same data source. The `Feature Group` lets you save metadata along features, which defines how the Feature Store interprets them, combines them and reproduces training datasets created from them.\n",
    "\n",
    "Generally, the features in a feature group are engineered together in an ingestion job. However, it is possible to have additional jobs to append features to an existing feature group. Furthermore, `feature groups` provide a way of defining a namespace for features, such that you can define features with the same name multiple times, but uniquely identified by the group they are contained in.\n",
    "\n",
    "> It is important to note that `feature groups` are not groupings of features for immediate training of Machine Learning models. Instead, to ensure reusability of features, it is possible to combine features from any number of groups into training datasets."
   ]
  },
  {
   "cell_type": "code",
   "execution_count": null,
   "id": "fa06d965",
   "metadata": {},
   "outputs": [],
   "source": [
    "import hsfs\n",
    "connection = hsfs.connection()\n",
    "fs = connection.get_feature_store()"
   ]
  },
  {
   "cell_type": "code",
   "execution_count": null,
   "id": "42fb0dba",
   "metadata": {},
   "outputs": [],
   "source": [
    "port_embeddings_fg = fs.get_or_create_feature_group(\n",
    "    name=\"port_embeddings\",\n",
    "    description=\"Port embeddings\",\n",
    "    version=1,\n",
    "    online_enabled=True,\n",
    "    primary_key=[\"source_node_id\", \"target_node_id\"],\n",
    "    statistics_config=False\n",
    ")\n",
    "\n",
    "port_embeddings_fg.insert(port_embeddings_df)"
   ]
  },
  {
   "cell_type": "code",
   "execution_count": null,
   "id": "9f38579d",
   "metadata": {},
   "outputs": [],
   "source": [
    "port_distance_fg = fs.get_or_create_feature_group(\n",
    "    name=\"port_distance\",\n",
    "    description=\"Distances between ports\",\n",
    "    version=1,\n",
    "    online_enabled=True,\n",
    "    primary_key=[\"source_node_id\", \"target_node_id\"],\n",
    "    statistics_config=True\n",
    ")\n",
    "\n",
    "port_distance_fg.insert(emb_hops)"
   ]
  },
  {
   "cell_type": "code",
   "execution_count": null,
   "id": "b7eca426",
   "metadata": {},
   "outputs": [],
   "source": []
  }
 ],
 "metadata": {
  "kernelspec": {
   "display_name": "Python 3 (ipykernel)",
   "language": "python",
   "name": "python3"
  },
  "language_info": {
   "codemirror_mode": {
    "name": "ipython",
    "version": 3
   },
   "file_extension": ".py",
   "mimetype": "text/x-python",
   "name": "python",
   "nbconvert_exporter": "python",
   "pygments_lexer": "ipython3",
   "version": "3.10.13"
  }
 },
 "nbformat": 4,
 "nbformat_minor": 5
}
