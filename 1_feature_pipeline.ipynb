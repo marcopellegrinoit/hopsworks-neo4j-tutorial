{
 "cells": [
  {
   "cell_type": "markdown",
   "id": "1dca07a0",
   "metadata": {},
   "source": [
    "# <span style=\"font-width:bold; font-size: 3rem; color:#1EB182;\"> **Hopsworks Feature Store** </span><span style=\"font-width:bold; font-size: 3rem; color:#333;\">- Part 01: Load, Engineer & Connect</span>\n",
    "\n",
    "## <span style=\"color:#ff5f27;\"> 📝 Imports </span>"
   ]
  },
  {
   "cell_type": "code",
   "execution_count": 38,
   "id": "91c5844b",
   "metadata": {},
   "outputs": [],
   "source": [
    "import hopsworks\n",
    "import pandas as pd\n",
    "from graphdatascience import GraphDataScience\n",
    "from datetime import datetime\n",
    "import great_expectations as ge\n",
    "from great_expectations.core import ExpectationSuite, ExpectationConfiguration\n",
    "from keys import *"
   ]
  },
  {
   "cell_type": "code",
   "execution_count": 2,
   "id": "53d4bd09",
   "metadata": {},
   "outputs": [
    {
     "data": {
      "text/plain": [
       "'\\nNEO4J_URI = \"neo4j://...\"\\nNEO4J_USER = \"...\"\\nNEO4J_PASSWORD = \"...\"\\nDATABASE_NAME = \"...\"\\n'"
      ]
     },
     "execution_count": 2,
     "metadata": {},
     "output_type": "execute_result"
    }
   ],
   "source": [
    "'''\n",
    "NEO4J_URI = \"neo4j://...\"\n",
    "NEO4J_USER = \"...\"\n",
    "NEO4J_PASSWORD = \"...\"\n",
    "DATABASE_NAME = \"...\"\n",
    "'''"
   ]
  },
  {
   "cell_type": "markdown",
   "id": "b96b4218",
   "metadata": {},
   "source": [
    "## <span style=\"color:#ff5f27;\"> 💽 Loading Graph from Neo4J </span>"
   ]
  },
  {
   "cell_type": "code",
   "execution_count": 3,
   "id": "2d6b25f0",
   "metadata": {},
   "outputs": [],
   "source": [
    "gds = GraphDataScience(NEO4J_URI, auth=(NEO4J_USER, NEO4J_PASSWORD), database=DATABASE_NAME)"
   ]
  },
  {
   "cell_type": "code",
   "execution_count": 4,
   "id": "c9d24c2d",
   "metadata": {},
   "outputs": [
    {
     "data": {
      "text/html": [
       "<div>\n",
       "<style scoped>\n",
       "    .dataframe tbody tr th:only-of-type {\n",
       "        vertical-align: middle;\n",
       "    }\n",
       "\n",
       "    .dataframe tbody tr th {\n",
       "        vertical-align: top;\n",
       "    }\n",
       "\n",
       "    .dataframe thead th {\n",
       "        text-align: right;\n",
       "    }\n",
       "</style>\n",
       "<table border=\"1\" class=\"dataframe\">\n",
       "  <thead>\n",
       "    <tr style=\"text-align: right;\">\n",
       "      <th></th>\n",
       "      <th>degreeDistribution</th>\n",
       "      <th>graphName</th>\n",
       "      <th>database</th>\n",
       "      <th>memoryUsage</th>\n",
       "      <th>sizeInBytes</th>\n",
       "      <th>nodeCount</th>\n",
       "      <th>relationshipCount</th>\n",
       "      <th>configuration</th>\n",
       "      <th>density</th>\n",
       "      <th>creationTime</th>\n",
       "      <th>modificationTime</th>\n",
       "      <th>schema</th>\n",
       "      <th>schemaWithOrientation</th>\n",
       "    </tr>\n",
       "  </thead>\n",
       "  <tbody>\n",
       "    <tr>\n",
       "      <th>0</th>\n",
       "      <td>{'min': 0, 'max': 124, 'p90': 4, 'p999': 124, ...</td>\n",
       "      <td>portRoutes2</td>\n",
       "      <td>citi-supply-chain-supplychain-nov-3-2023-11-17-23</td>\n",
       "      <td>2559 KiB</td>\n",
       "      <td>2620584</td>\n",
       "      <td>729</td>\n",
       "      <td>1305</td>\n",
       "      <td>{}</td>\n",
       "      <td>0.002459</td>\n",
       "      <td>2023-11-03T18:46:50.246652087+00:00</td>\n",
       "      <td>2023-11-03T18:46:50.598936154+00:00</td>\n",
       "      <td>{'graphProperties': {}, 'nodes': {'Port': {}},...</td>\n",
       "      <td>{'graphProperties': {}, 'nodes': {'Port': {}},...</td>\n",
       "    </tr>\n",
       "  </tbody>\n",
       "</table>\n",
       "</div>"
      ],
      "text/plain": [
       "                                  degreeDistribution    graphName  \\\n",
       "0  {'min': 0, 'max': 124, 'p90': 4, 'p999': 124, ...  portRoutes2   \n",
       "\n",
       "                                            database memoryUsage  sizeInBytes  \\\n",
       "0  citi-supply-chain-supplychain-nov-3-2023-11-17-23    2559 KiB      2620584   \n",
       "\n",
       "   nodeCount  relationshipCount configuration   density  \\\n",
       "0        729               1305            {}  0.002459   \n",
       "\n",
       "                          creationTime                     modificationTime  \\\n",
       "0  2023-11-03T18:46:50.246652087+00:00  2023-11-03T18:46:50.598936154+00:00   \n",
       "\n",
       "                                              schema  \\\n",
       "0  {'graphProperties': {}, 'nodes': {'Port': {}},...   \n",
       "\n",
       "                               schemaWithOrientation  \n",
       "0  {'graphProperties': {}, 'nodes': {'Port': {}},...  "
      ]
     },
     "execution_count": 4,
     "metadata": {},
     "output_type": "execute_result"
    }
   ],
   "source": [
    "gds.graph.list()"
   ]
  },
  {
   "cell_type": "code",
   "execution_count": 5,
   "id": "4ba89878",
   "metadata": {},
   "outputs": [],
   "source": [
    "port_routes = gds.graph.get(\"portRoutes2\")"
   ]
  },
  {
   "cell_type": "markdown",
   "id": "f938a8f7-4a46-4e4f-a546-e34f8fa0e730",
   "metadata": {},
   "source": [
    "## <span style=\"color:#ff5f27;\"> 🔎 Explore nodes </span>"
   ]
  },
  {
   "cell_type": "code",
   "execution_count": 6,
   "id": "935cd10a",
   "metadata": {},
   "outputs": [
    {
     "data": {
      "text/plain": [
       "Graph({'graphName': 'portRoutes2', 'nodeCount': 729, 'relationshipCount': 1305, 'database': 'citi-supply-chain-supplychain-nov-3-2023-11-17-23', 'configuration': {}, 'schema': {'graphProperties': {}, 'nodes': {'Port': {}}, 'relationships': {'HAS_TRADE_ROUTE': {'distance': 'Float (DefaultValue(NaN), PERSISTENT, Aggregation.NONE)'}}}, 'memoryUsage': '2559 KiB'})"
      ]
     },
     "execution_count": 6,
     "metadata": {},
     "output_type": "execute_result"
    }
   ],
   "source": [
    "port_routes"
   ]
  },
  {
   "cell_type": "code",
   "execution_count": 7,
   "id": "9d881b87",
   "metadata": {},
   "outputs": [
    {
     "data": {
      "text/plain": [
       "Port    []\n",
       "dtype: object"
      ]
     },
     "execution_count": 7,
     "metadata": {},
     "output_type": "execute_result"
    }
   ],
   "source": [
    "port_routes.node_properties()"
   ]
  },
  {
   "cell_type": "code",
   "execution_count": 8,
   "id": "0554f119",
   "metadata": {},
   "outputs": [
    {
     "data": {
      "text/plain": [
       "'portRoutes2'"
      ]
     },
     "execution_count": 8,
     "metadata": {},
     "output_type": "execute_result"
    }
   ],
   "source": [
    "port_routes.name()"
   ]
  },
  {
   "cell_type": "code",
   "execution_count": 9,
   "id": "5c7a3da7",
   "metadata": {},
   "outputs": [
    {
     "data": {
      "text/html": [
       "<div>\n",
       "<style scoped>\n",
       "    .dataframe tbody tr th:only-of-type {\n",
       "        vertical-align: middle;\n",
       "    }\n",
       "\n",
       "    .dataframe tbody tr th {\n",
       "        vertical-align: top;\n",
       "    }\n",
       "\n",
       "    .dataframe thead th {\n",
       "        text-align: right;\n",
       "    }\n",
       "</style>\n",
       "<table border=\"1\" class=\"dataframe\">\n",
       "  <thead>\n",
       "    <tr style=\"text-align: right;\">\n",
       "      <th></th>\n",
       "      <th>index</th>\n",
       "      <th>sourceNode</th>\n",
       "      <th>targetNode</th>\n",
       "      <th>totalCost</th>\n",
       "      <th>nodeIds</th>\n",
       "      <th>costs</th>\n",
       "      <th>path</th>\n",
       "    </tr>\n",
       "  </thead>\n",
       "  <tbody>\n",
       "    <tr>\n",
       "      <th>0</th>\n",
       "      <td>0</td>\n",
       "      <td>2406</td>\n",
       "      <td>2404</td>\n",
       "      <td>3.0</td>\n",
       "      <td>[2406, 2360, 2386, 2404]</td>\n",
       "      <td>[0.0, 1.0, 2.0, 3.0]</td>\n",
       "      <td>((cost), (cost), (cost))</td>\n",
       "    </tr>\n",
       "  </tbody>\n",
       "</table>\n",
       "</div>"
      ],
      "text/plain": [
       "   index  sourceNode  targetNode  totalCost                   nodeIds  \\\n",
       "0      0        2406        2404        3.0  [2406, 2360, 2386, 2404]   \n",
       "\n",
       "                  costs                      path  \n",
       "0  [0.0, 1.0, 2.0, 3.0]  ((cost), (cost), (cost))  "
      ]
     },
     "metadata": {},
     "output_type": "display_data"
    },
    {
     "data": {
      "text/html": [
       "<div>\n",
       "<style scoped>\n",
       "    .dataframe tbody tr th:only-of-type {\n",
       "        vertical-align: middle;\n",
       "    }\n",
       "\n",
       "    .dataframe tbody tr th {\n",
       "        vertical-align: top;\n",
       "    }\n",
       "\n",
       "    .dataframe thead th {\n",
       "        text-align: right;\n",
       "    }\n",
       "</style>\n",
       "<table border=\"1\" class=\"dataframe\">\n",
       "  <thead>\n",
       "    <tr style=\"text-align: right;\">\n",
       "      <th></th>\n",
       "      <th>index</th>\n",
       "      <th>sourceNode</th>\n",
       "      <th>targetNode</th>\n",
       "      <th>totalCost</th>\n",
       "      <th>nodeIds</th>\n",
       "      <th>costs</th>\n",
       "      <th>path</th>\n",
       "    </tr>\n",
       "  </thead>\n",
       "  <tbody>\n",
       "    <tr>\n",
       "      <th>0</th>\n",
       "      <td>0</td>\n",
       "      <td>2358</td>\n",
       "      <td>2378</td>\n",
       "      <td>1.0</td>\n",
       "      <td>[2358, 2378]</td>\n",
       "      <td>[0.0, 1.0]</td>\n",
       "      <td>((cost))</td>\n",
       "    </tr>\n",
       "  </tbody>\n",
       "</table>\n",
       "</div>"
      ],
      "text/plain": [
       "   index  sourceNode  targetNode  totalCost       nodeIds       costs  \\\n",
       "0      0        2358        2378        1.0  [2358, 2378]  [0.0, 1.0]   \n",
       "\n",
       "       path  \n",
       "0  ((cost))  "
      ]
     },
     "metadata": {},
     "output_type": "display_data"
    }
   ],
   "source": [
    "# Shortest path between 2 example nodes\n",
    "display(gds.shortestPath.dijkstra.stream(port_routes, sourceNode=2406, targetNode=2404))\n",
    "display(gds.shortestPath.dijkstra.stream(port_routes, sourceNode=2358, targetNode=2378))"
   ]
  },
  {
   "cell_type": "markdown",
   "id": "646a039f",
   "metadata": {},
   "source": [
    "## <span style=\"color:#ff5f27;\"> 🛠️ Graph Feature Engineering using Neo4J APIs</span>\n"
   ]
  },
  {
   "cell_type": "markdown",
   "id": "2fa2a614-b05c-4d19-af1b-440a36849df2",
   "metadata": {},
   "source": [
    "# Retrieve all trips"
   ]
  },
  {
   "cell_type": "code",
   "execution_count": 10,
   "id": "6adacae2",
   "metadata": {},
   "outputs": [
    {
     "data": {
      "text/plain": [
       "'\\n# very long to execute\\n\\ntrip_df = gds.run_cypher(\\n    \"MATCH (p) RETURN p.trip_id, p.arrival_time, p.destination_port, p.lon, p.departure_time, p.lat, p.departure_port\"\\n)\\ntrip_df.dropna(subset = [\"p.trip_id\"], inplace=True)\\ntrip_df.dropna(inplace=True)\\n\\ntrip_df.to_csv(\\'tmp/trip_df.csv\\', index=False)\\n'"
      ]
     },
     "execution_count": 10,
     "metadata": {},
     "output_type": "execute_result"
    }
   ],
   "source": [
    "trip_df = gds.run_cypher(\n",
    "    \"MATCH (p) RETURN p.trip_id, p.arrival_time, p.destination_port, p.lon, p.departure_time, p.lat, p.departure_port\"\n",
    ")\n",
    "trip_df.dropna(subset = [\"p.trip_id\"], inplace=True)\n",
    "trip_df.dropna(inplace=True)\n",
    "\n",
    "trip_df.to_csv('tmp/trip_df.csv', index=False)"
   ]
  },
  {
   "cell_type": "code",
   "execution_count": 11,
   "id": "c83ceba1-3c82-4369-804e-8d56f621f987",
   "metadata": {},
   "outputs": [
    {
     "data": {
      "text/html": [
       "<div>\n",
       "<style scoped>\n",
       "    .dataframe tbody tr th:only-of-type {\n",
       "        vertical-align: middle;\n",
       "    }\n",
       "\n",
       "    .dataframe tbody tr th {\n",
       "        vertical-align: top;\n",
       "    }\n",
       "\n",
       "    .dataframe thead th {\n",
       "        text-align: right;\n",
       "    }\n",
       "</style>\n",
       "<table border=\"1\" class=\"dataframe\">\n",
       "  <thead>\n",
       "    <tr style=\"text-align: right;\">\n",
       "      <th></th>\n",
       "      <th>p.trip_id</th>\n",
       "      <th>p.arrival_time</th>\n",
       "      <th>p.destination_port</th>\n",
       "      <th>p.lon</th>\n",
       "      <th>p.departure_time</th>\n",
       "      <th>p.lat</th>\n",
       "      <th>p.departure_port</th>\n",
       "    </tr>\n",
       "  </thead>\n",
       "  <tbody>\n",
       "    <tr>\n",
       "      <th>0</th>\n",
       "      <td>b56053ae-3dab-429b-8edd-fb5d00a294b2</td>\n",
       "      <td>2019-05-31T17:45:00.000Z</td>\n",
       "      <td>INDONESIA</td>\n",
       "      <td>110.985657</td>\n",
       "      <td>2019-05-30T22:54:30.000Z</td>\n",
       "      <td>-4.464749</td>\n",
       "      <td>IDPJG</td>\n",
       "    </tr>\n",
       "    <tr>\n",
       "      <th>1</th>\n",
       "      <td>50f3fa2b-5b62-44d2-b955-7da8c3464eb9</td>\n",
       "      <td>2022-02-23T03:43:00.000Z</td>\n",
       "      <td>INDONESIA</td>\n",
       "      <td>106.833300</td>\n",
       "      <td>2022-02-22T22:34:00.000Z</td>\n",
       "      <td>-6.133300</td>\n",
       "      <td>IDJKT</td>\n",
       "    </tr>\n",
       "    <tr>\n",
       "      <th>2</th>\n",
       "      <td>ffc87c9b-78e7-4109-bb78-d3dee96d5974</td>\n",
       "      <td>2022-04-04T12:40:00.000Z</td>\n",
       "      <td>INDONESIA</td>\n",
       "      <td>106.833300</td>\n",
       "      <td>2022-04-03T21:07:00.000Z</td>\n",
       "      <td>-6.133300</td>\n",
       "      <td>IDJKT</td>\n",
       "    </tr>\n",
       "    <tr>\n",
       "      <th>3</th>\n",
       "      <td>cbc7f3fa-e13f-4601-99bb-48a68c77edbe</td>\n",
       "      <td>2019-05-31T17:45:00.000Z</td>\n",
       "      <td>INDONESIA</td>\n",
       "      <td>110.985657</td>\n",
       "      <td>2019-05-30T22:54:30.000Z</td>\n",
       "      <td>-4.464749</td>\n",
       "      <td>IDPJG</td>\n",
       "    </tr>\n",
       "    <tr>\n",
       "      <th>4</th>\n",
       "      <td>dcb8214c-b245-46f5-935b-2003d55060b9</td>\n",
       "      <td>2020-01-21T16:17:00.000Z</td>\n",
       "      <td>CNFOC</td>\n",
       "      <td>119.663002</td>\n",
       "      <td>2020-01-21T10:21:00.000Z</td>\n",
       "      <td>25.935101</td>\n",
       "      <td>CNFOC</td>\n",
       "    </tr>\n",
       "    <tr>\n",
       "      <th>...</th>\n",
       "      <td>...</td>\n",
       "      <td>...</td>\n",
       "      <td>...</td>\n",
       "      <td>...</td>\n",
       "      <td>...</td>\n",
       "      <td>...</td>\n",
       "      <td>...</td>\n",
       "    </tr>\n",
       "    <tr>\n",
       "      <th>773000</th>\n",
       "      <td>7200af38-9555-4fd2-b3a1-78f7cb53db03</td>\n",
       "      <td>2022-05-07T01:27:00.000Z</td>\n",
       "      <td>MYKUA</td>\n",
       "      <td>-90.258003</td>\n",
       "      <td>2022-03-27T05:50:00.000Z</td>\n",
       "      <td>29.993401</td>\n",
       "      <td>USMSY</td>\n",
       "    </tr>\n",
       "    <tr>\n",
       "      <th>773001</th>\n",
       "      <td>58bd9881-1862-4df0-a38b-0f2639851e34</td>\n",
       "      <td>2022-05-07T01:30:00.000Z</td>\n",
       "      <td>MYKUA</td>\n",
       "      <td>-90.258003</td>\n",
       "      <td>2022-03-27T06:14:00.000Z</td>\n",
       "      <td>29.993401</td>\n",
       "      <td>USMSY</td>\n",
       "    </tr>\n",
       "    <tr>\n",
       "      <th>773002</th>\n",
       "      <td>31993d0f-d1ec-443c-a87d-4c5d9c590364</td>\n",
       "      <td>2021-11-11T11:03:20.000Z</td>\n",
       "      <td>TRTEK</td>\n",
       "      <td>4.416700</td>\n",
       "      <td>2021-10-31T23:54:32.727Z</td>\n",
       "      <td>51.216700</td>\n",
       "      <td>BEANR</td>\n",
       "    </tr>\n",
       "    <tr>\n",
       "      <th>773003</th>\n",
       "      <td>6b57c1f4-8f0d-4a7a-bc7e-f4f069dc7fc1</td>\n",
       "      <td>2021-11-11T11:03:20.000Z</td>\n",
       "      <td>TRTEK</td>\n",
       "      <td>4.416700</td>\n",
       "      <td>2021-10-31T23:54:32.727Z</td>\n",
       "      <td>51.216700</td>\n",
       "      <td>BEANR</td>\n",
       "    </tr>\n",
       "    <tr>\n",
       "      <th>773004</th>\n",
       "      <td>65c79ee8-ac52-48b4-9fce-a2f538cbe84d</td>\n",
       "      <td>2022-03-04T03:14:00.000Z</td>\n",
       "      <td>NLNIJ</td>\n",
       "      <td>-95.350000</td>\n",
       "      <td>2022-02-07T17:31:00.000Z</td>\n",
       "      <td>29.750000</td>\n",
       "      <td>USHOU</td>\n",
       "    </tr>\n",
       "  </tbody>\n",
       "</table>\n",
       "<p>773005 rows × 7 columns</p>\n",
       "</div>"
      ],
      "text/plain": [
       "                                   p.trip_id            p.arrival_time  \\\n",
       "0       b56053ae-3dab-429b-8edd-fb5d00a294b2  2019-05-31T17:45:00.000Z   \n",
       "1       50f3fa2b-5b62-44d2-b955-7da8c3464eb9  2022-02-23T03:43:00.000Z   \n",
       "2       ffc87c9b-78e7-4109-bb78-d3dee96d5974  2022-04-04T12:40:00.000Z   \n",
       "3       cbc7f3fa-e13f-4601-99bb-48a68c77edbe  2019-05-31T17:45:00.000Z   \n",
       "4       dcb8214c-b245-46f5-935b-2003d55060b9  2020-01-21T16:17:00.000Z   \n",
       "...                                      ...                       ...   \n",
       "773000  7200af38-9555-4fd2-b3a1-78f7cb53db03  2022-05-07T01:27:00.000Z   \n",
       "773001  58bd9881-1862-4df0-a38b-0f2639851e34  2022-05-07T01:30:00.000Z   \n",
       "773002  31993d0f-d1ec-443c-a87d-4c5d9c590364  2021-11-11T11:03:20.000Z   \n",
       "773003  6b57c1f4-8f0d-4a7a-bc7e-f4f069dc7fc1  2021-11-11T11:03:20.000Z   \n",
       "773004  65c79ee8-ac52-48b4-9fce-a2f538cbe84d  2022-03-04T03:14:00.000Z   \n",
       "\n",
       "       p.destination_port       p.lon          p.departure_time      p.lat  \\\n",
       "0               INDONESIA  110.985657  2019-05-30T22:54:30.000Z  -4.464749   \n",
       "1               INDONESIA  106.833300  2022-02-22T22:34:00.000Z  -6.133300   \n",
       "2               INDONESIA  106.833300  2022-04-03T21:07:00.000Z  -6.133300   \n",
       "3               INDONESIA  110.985657  2019-05-30T22:54:30.000Z  -4.464749   \n",
       "4                   CNFOC  119.663002  2020-01-21T10:21:00.000Z  25.935101   \n",
       "...                   ...         ...                       ...        ...   \n",
       "773000              MYKUA  -90.258003  2022-03-27T05:50:00.000Z  29.993401   \n",
       "773001              MYKUA  -90.258003  2022-03-27T06:14:00.000Z  29.993401   \n",
       "773002              TRTEK    4.416700  2021-10-31T23:54:32.727Z  51.216700   \n",
       "773003              TRTEK    4.416700  2021-10-31T23:54:32.727Z  51.216700   \n",
       "773004              NLNIJ  -95.350000  2022-02-07T17:31:00.000Z  29.750000   \n",
       "\n",
       "       p.departure_port  \n",
       "0                 IDPJG  \n",
       "1                 IDJKT  \n",
       "2                 IDJKT  \n",
       "3                 IDPJG  \n",
       "4                 CNFOC  \n",
       "...                 ...  \n",
       "773000            USMSY  \n",
       "773001            USMSY  \n",
       "773002            BEANR  \n",
       "773003            BEANR  \n",
       "773004            USHOU  \n",
       "\n",
       "[773005 rows x 7 columns]"
      ]
     },
     "execution_count": 11,
     "metadata": {},
     "output_type": "execute_result"
    }
   ],
   "source": [
    "'''\n",
    "trip_df = pd.read_csv('tmp/trip_df.csv')\n",
    "trip_df"
   ]
  },
  {
   "cell_type": "markdown",
   "id": "3efe29c4-fb73-46f4-9033-eb4bfc069a85",
   "metadata": {},
   "source": [
    "# Compute paths (nodes to cross)"
   ]
  },
  {
   "cell_type": "code",
   "execution_count": 12,
   "id": "bbe70c72",
   "metadata": {},
   "outputs": [],
   "source": [
    "distances = []\n",
    "existent = [] # counter list to avoid repetitions\n",
    "trip_df = trip_df[trip_df[\"p.departure_port\"] != trip_df[\"p.destination_port\"]] # remove trips where origin and destination are the same\n",
    "\n",
    "for departure_port,destination_port in trip_df[[\"p.departure_port\", \"p.destination_port\"]].values.tolist():\n",
    "    if not [departure_port,destination_port] in existent: # check if port pair already computed\n",
    "        existent.append([departure_port,destination_port]) # increase counter list\n",
    "        distances.append(gds.shortestPath.dijkstra.stream(port_routes, # graph\n",
    "                                                          sourceNode=gds.find_node_id([\"Port\"], {\"port_code\": departure_port}), # departure\n",
    "                                                          targetNode=gds.find_node_id([\"Port\"], {\"port_code\": destination_port})) # arrival\n",
    "                         [[\"sourceNode\", \"targetNode\", \"totalCost\", \"nodeIds\", \"costs\"]].to_dict())"
   ]
  },
  {
   "cell_type": "code",
   "execution_count": 13,
   "id": "f852da27",
   "metadata": {},
   "outputs": [],
   "source": [
    "# Reformat the distances\n",
    "records = []\n",
    "for r in distances:\n",
    "    try:\n",
    "        records.append({\"sourceNode\": r['sourceNode'][0], \"targetNode\": r['targetNode'][0], \"nodeIds\": r['nodeIds'][0], \"costs\": r['costs'][0]})\n",
    "    except:\n",
    "        pass"
   ]
  },
  {
   "cell_type": "code",
   "execution_count": 14,
   "id": "1c77f765",
   "metadata": {},
   "outputs": [],
   "source": [
    "distances_df = pd.DataFrame.from_records(records) # make distances a dataframe\n",
    "distances_df[\"hops\"] = distances_df.nodeIds.map(lambda x: len(x)) # hops = number of nodes of the chain\n",
    "distances_df = distances_df[distances_df.hops > 2] # select only trips with not adjacent origin-destination (at least 1 intermediate hop)"
   ]
  },
  {
   "cell_type": "code",
   "execution_count": 15,
   "id": "9b570a8c-14b1-4dad-8348-3db38835f282",
   "metadata": {},
   "outputs": [
    {
     "data": {
      "text/html": [
       "<div>\n",
       "<style scoped>\n",
       "    .dataframe tbody tr th:only-of-type {\n",
       "        vertical-align: middle;\n",
       "    }\n",
       "\n",
       "    .dataframe tbody tr th {\n",
       "        vertical-align: top;\n",
       "    }\n",
       "\n",
       "    .dataframe thead th {\n",
       "        text-align: right;\n",
       "    }\n",
       "</style>\n",
       "<table border=\"1\" class=\"dataframe\">\n",
       "  <thead>\n",
       "    <tr style=\"text-align: right;\">\n",
       "      <th></th>\n",
       "      <th>source_node_id</th>\n",
       "      <th>target_node_id</th>\n",
       "      <th>hop_node_ids</th>\n",
       "      <th>costs</th>\n",
       "      <th>hops</th>\n",
       "    </tr>\n",
       "  </thead>\n",
       "  <tbody>\n",
       "    <tr>\n",
       "      <th>6</th>\n",
       "      <td>6000</td>\n",
       "      <td>2360</td>\n",
       "      <td>[6000, 2390, 2360]</td>\n",
       "      <td>[0.0, 1.0, 2.0]</td>\n",
       "      <td>3</td>\n",
       "    </tr>\n",
       "    <tr>\n",
       "      <th>8</th>\n",
       "      <td>2412</td>\n",
       "      <td>2360</td>\n",
       "      <td>[2412, 2368, 2371, 2360]</td>\n",
       "      <td>[0.0, 1.0, 2.0, 3.0]</td>\n",
       "      <td>4</td>\n",
       "    </tr>\n",
       "    <tr>\n",
       "      <th>16</th>\n",
       "      <td>2383</td>\n",
       "      <td>2360</td>\n",
       "      <td>[2383, 2371, 2360]</td>\n",
       "      <td>[0.0, 1.0, 2.0]</td>\n",
       "      <td>3</td>\n",
       "    </tr>\n",
       "    <tr>\n",
       "      <th>17</th>\n",
       "      <td>2364</td>\n",
       "      <td>2360</td>\n",
       "      <td>[2364, 2371, 2360]</td>\n",
       "      <td>[0.0, 1.0, 2.0]</td>\n",
       "      <td>3</td>\n",
       "    </tr>\n",
       "    <tr>\n",
       "      <th>19</th>\n",
       "      <td>2405</td>\n",
       "      <td>2360</td>\n",
       "      <td>[2405, 2388, 2360]</td>\n",
       "      <td>[0.0, 1.0, 2.0]</td>\n",
       "      <td>3</td>\n",
       "    </tr>\n",
       "    <tr>\n",
       "      <th>...</th>\n",
       "      <td>...</td>\n",
       "      <td>...</td>\n",
       "      <td>...</td>\n",
       "      <td>...</td>\n",
       "      <td>...</td>\n",
       "    </tr>\n",
       "    <tr>\n",
       "      <th>1531</th>\n",
       "      <td>2389</td>\n",
       "      <td>235522</td>\n",
       "      <td>[2389, 2364, 235522]</td>\n",
       "      <td>[0.0, 1.0, 2.0]</td>\n",
       "      <td>3</td>\n",
       "    </tr>\n",
       "    <tr>\n",
       "      <th>1544</th>\n",
       "      <td>2364</td>\n",
       "      <td>321227</td>\n",
       "      <td>[2364, 2366, 321227]</td>\n",
       "      <td>[0.0, 1.0, 2.0]</td>\n",
       "      <td>3</td>\n",
       "    </tr>\n",
       "    <tr>\n",
       "      <th>1557</th>\n",
       "      <td>4456</td>\n",
       "      <td>517443</td>\n",
       "      <td>[4456, 2371, 2388, 517443]</td>\n",
       "      <td>[0.0, 1.0, 2.0, 3.0]</td>\n",
       "      <td>4</td>\n",
       "    </tr>\n",
       "    <tr>\n",
       "      <th>1560</th>\n",
       "      <td>2389</td>\n",
       "      <td>517449</td>\n",
       "      <td>[2389, 2371, 2388, 517449]</td>\n",
       "      <td>[0.0, 1.0, 2.0, 3.0]</td>\n",
       "      <td>4</td>\n",
       "    </tr>\n",
       "    <tr>\n",
       "      <th>1581</th>\n",
       "      <td>22893</td>\n",
       "      <td>782708</td>\n",
       "      <td>[22893, 2361, 15636, 2388, 782708]</td>\n",
       "      <td>[0.0, 1.0, 2.0, 3.0, 4.0]</td>\n",
       "      <td>5</td>\n",
       "    </tr>\n",
       "  </tbody>\n",
       "</table>\n",
       "<p>320 rows × 5 columns</p>\n",
       "</div>"
      ],
      "text/plain": [
       "      source_node_id  target_node_id                        hop_node_ids  \\\n",
       "6               6000            2360                  [6000, 2390, 2360]   \n",
       "8               2412            2360            [2412, 2368, 2371, 2360]   \n",
       "16              2383            2360                  [2383, 2371, 2360]   \n",
       "17              2364            2360                  [2364, 2371, 2360]   \n",
       "19              2405            2360                  [2405, 2388, 2360]   \n",
       "...              ...             ...                                 ...   \n",
       "1531            2389          235522                [2389, 2364, 235522]   \n",
       "1544            2364          321227                [2364, 2366, 321227]   \n",
       "1557            4456          517443          [4456, 2371, 2388, 517443]   \n",
       "1560            2389          517449          [2389, 2371, 2388, 517449]   \n",
       "1581           22893          782708  [22893, 2361, 15636, 2388, 782708]   \n",
       "\n",
       "                          costs  hops  \n",
       "6               [0.0, 1.0, 2.0]     3  \n",
       "8          [0.0, 1.0, 2.0, 3.0]     4  \n",
       "16              [0.0, 1.0, 2.0]     3  \n",
       "17              [0.0, 1.0, 2.0]     3  \n",
       "19              [0.0, 1.0, 2.0]     3  \n",
       "...                         ...   ...  \n",
       "1531            [0.0, 1.0, 2.0]     3  \n",
       "1544            [0.0, 1.0, 2.0]     3  \n",
       "1557       [0.0, 1.0, 2.0, 3.0]     4  \n",
       "1560       [0.0, 1.0, 2.0, 3.0]     4  \n",
       "1581  [0.0, 1.0, 2.0, 3.0, 4.0]     5  \n",
       "\n",
       "[320 rows x 5 columns]"
      ]
     },
     "execution_count": 15,
     "metadata": {},
     "output_type": "execute_result"
    }
   ],
   "source": [
    "distances_df.columns = ['source_node_id', 'target_node_id', 'hop_node_ids', 'costs', 'hops']\n",
    "distances_df"
   ]
  },
  {
   "cell_type": "code",
   "execution_count": 17,
   "id": "ae2f0773-e6c8-409b-b3ed-35551aea1c69",
   "metadata": {},
   "outputs": [
    {
     "data": {
      "text/plain": [
       "source_node_id     int64\n",
       "target_node_id     int64\n",
       "hop_node_ids      object\n",
       "costs             object\n",
       "hops               int64\n",
       "dtype: object"
      ]
     },
     "execution_count": 17,
     "metadata": {},
     "output_type": "execute_result"
    }
   ],
   "source": [
    "distances_df.dtypes"
   ]
  },
  {
   "cell_type": "markdown",
   "id": "20fb55c4-b20a-4288-9de9-956ad01a7952",
   "metadata": {},
   "source": [
    "# Distances"
   ]
  },
  {
   "cell_type": "markdown",
   "id": "4cf0e78e-d04a-4afb-adf9-4b5af62c8e4c",
   "metadata": {},
   "source": [
    "#### Compute distances of each edge"
   ]
  },
  {
   "cell_type": "code",
   "execution_count": 18,
   "id": "f3884fe7",
   "metadata": {},
   "outputs": [
    {
     "data": {
      "text/plain": [
       "source_node_id      int64\n",
       "target_node_id      int64\n",
       "distance_km       float64\n",
       "dtype: object"
      ]
     },
     "execution_count": 18,
     "metadata": {},
     "output_type": "execute_result"
    }
   ],
   "source": [
    "distance_edge_df = gds.graph.relationshipProperty.stream(port_routes,  node_properties=\"distance\")\n",
    "distance_edge_df = distance_edge_df.dropna() # remove NAs\n",
    "distance_edge_df.columns = [\"source_node_id\", \"target_node_id\", \"relationshipType\", \"distance_km\"] # rename columns\n",
    "distance_edge_df = distance_edge_df[[\"source_node_id\", \"target_node_id\", \"distance_km\"]] # select columns\n",
    "distance_edge_df\n",
    "distance_edge_df.dtypes"
   ]
  },
  {
   "cell_type": "code",
   "execution_count": 19,
   "id": "35dcd3a6",
   "metadata": {},
   "outputs": [
    {
     "data": {
      "text/html": [
       "<div>\n",
       "<style scoped>\n",
       "    .dataframe tbody tr th:only-of-type {\n",
       "        vertical-align: middle;\n",
       "    }\n",
       "\n",
       "    .dataframe tbody tr th {\n",
       "        vertical-align: top;\n",
       "    }\n",
       "\n",
       "    .dataframe thead th {\n",
       "        text-align: right;\n",
       "    }\n",
       "</style>\n",
       "<table border=\"1\" class=\"dataframe\">\n",
       "  <thead>\n",
       "    <tr style=\"text-align: right;\">\n",
       "      <th></th>\n",
       "      <th>source_node_id</th>\n",
       "      <th>target_node_id</th>\n",
       "      <th>distance_km</th>\n",
       "    </tr>\n",
       "  </thead>\n",
       "  <tbody>\n",
       "    <tr>\n",
       "      <th>101</th>\n",
       "      <td>2364</td>\n",
       "      <td>2371</td>\n",
       "      <td>9296.306421</td>\n",
       "    </tr>\n",
       "  </tbody>\n",
       "</table>\n",
       "</div>"
      ],
      "text/plain": [
       "     source_node_id  target_node_id  distance_km\n",
       "101            2364            2371  9296.306421"
      ]
     },
     "execution_count": 19,
     "metadata": {},
     "output_type": "execute_result"
    }
   ],
   "source": [
    "# Example distances from source to target\n",
    "distance_edge_df[(distance_edge_df.source_node_id == 2364) & (distance_edge_df.target_node_id ==2371)]"
   ]
  },
  {
   "cell_type": "markdown",
   "id": "91ca5f87-d6ab-405f-aa29-65692326c4b9",
   "metadata": {},
   "source": [
    "#### Compute distances for trips"
   ]
  },
  {
   "cell_type": "code",
   "execution_count": 20,
   "id": "7881953a-2b52-444a-afc6-b4f124c1c21b",
   "metadata": {},
   "outputs": [],
   "source": [
    "copy = distances_df"
   ]
  },
  {
   "cell_type": "code",
   "execution_count": 21,
   "id": "c1de2810",
   "metadata": {},
   "outputs": [
    {
     "data": {
      "text/html": [
       "<div>\n",
       "<style scoped>\n",
       "    .dataframe tbody tr th:only-of-type {\n",
       "        vertical-align: middle;\n",
       "    }\n",
       "\n",
       "    .dataframe tbody tr th {\n",
       "        vertical-align: top;\n",
       "    }\n",
       "\n",
       "    .dataframe thead th {\n",
       "        text-align: right;\n",
       "    }\n",
       "</style>\n",
       "<table border=\"1\" class=\"dataframe\">\n",
       "  <thead>\n",
       "    <tr style=\"text-align: right;\">\n",
       "      <th></th>\n",
       "      <th>source_node_id</th>\n",
       "      <th>target_node_id</th>\n",
       "      <th>hop_node_ids</th>\n",
       "      <th>costs</th>\n",
       "      <th>hops</th>\n",
       "      <th>distance_km</th>\n",
       "    </tr>\n",
       "  </thead>\n",
       "  <tbody>\n",
       "    <tr>\n",
       "      <th>6</th>\n",
       "      <td>6000</td>\n",
       "      <td>2360</td>\n",
       "      <td>[6000, 2390, 2360]</td>\n",
       "      <td>[0.0, 1.0, 2.0]</td>\n",
       "      <td>3</td>\n",
       "      <td>12710.743444</td>\n",
       "    </tr>\n",
       "    <tr>\n",
       "      <th>8</th>\n",
       "      <td>2412</td>\n",
       "      <td>2360</td>\n",
       "      <td>[2412, 2368, 2371, 2360]</td>\n",
       "      <td>[0.0, 1.0, 2.0, 3.0]</td>\n",
       "      <td>4</td>\n",
       "      <td>27080.252706</td>\n",
       "    </tr>\n",
       "    <tr>\n",
       "      <th>16</th>\n",
       "      <td>2383</td>\n",
       "      <td>2360</td>\n",
       "      <td>[2383, 2371, 2360]</td>\n",
       "      <td>[0.0, 1.0, 2.0]</td>\n",
       "      <td>3</td>\n",
       "      <td>13045.090625</td>\n",
       "    </tr>\n",
       "    <tr>\n",
       "      <th>17</th>\n",
       "      <td>2364</td>\n",
       "      <td>2360</td>\n",
       "      <td>[2364, 2371, 2360]</td>\n",
       "      <td>[0.0, 1.0, 2.0]</td>\n",
       "      <td>3</td>\n",
       "      <td>16890.267257</td>\n",
       "    </tr>\n",
       "    <tr>\n",
       "      <th>19</th>\n",
       "      <td>2405</td>\n",
       "      <td>2360</td>\n",
       "      <td>[2405, 2388, 2360]</td>\n",
       "      <td>[0.0, 1.0, 2.0]</td>\n",
       "      <td>3</td>\n",
       "      <td>10294.613418</td>\n",
       "    </tr>\n",
       "    <tr>\n",
       "      <th>...</th>\n",
       "      <td>...</td>\n",
       "      <td>...</td>\n",
       "      <td>...</td>\n",
       "      <td>...</td>\n",
       "      <td>...</td>\n",
       "      <td>...</td>\n",
       "    </tr>\n",
       "    <tr>\n",
       "      <th>1531</th>\n",
       "      <td>2389</td>\n",
       "      <td>235522</td>\n",
       "      <td>[2389, 2364, 235522]</td>\n",
       "      <td>[0.0, 1.0, 2.0]</td>\n",
       "      <td>3</td>\n",
       "      <td>16208.056197</td>\n",
       "    </tr>\n",
       "    <tr>\n",
       "      <th>1544</th>\n",
       "      <td>2364</td>\n",
       "      <td>321227</td>\n",
       "      <td>[2364, 2366, 321227]</td>\n",
       "      <td>[0.0, 1.0, 2.0]</td>\n",
       "      <td>3</td>\n",
       "      <td>6276.940293</td>\n",
       "    </tr>\n",
       "    <tr>\n",
       "      <th>1557</th>\n",
       "      <td>4456</td>\n",
       "      <td>517443</td>\n",
       "      <td>[4456, 2371, 2388, 517443]</td>\n",
       "      <td>[0.0, 1.0, 2.0, 3.0]</td>\n",
       "      <td>4</td>\n",
       "      <td>17285.456048</td>\n",
       "    </tr>\n",
       "    <tr>\n",
       "      <th>1560</th>\n",
       "      <td>2389</td>\n",
       "      <td>517449</td>\n",
       "      <td>[2389, 2371, 2388, 517449]</td>\n",
       "      <td>[0.0, 1.0, 2.0, 3.0]</td>\n",
       "      <td>4</td>\n",
       "      <td>20186.814340</td>\n",
       "    </tr>\n",
       "    <tr>\n",
       "      <th>1581</th>\n",
       "      <td>22893</td>\n",
       "      <td>782708</td>\n",
       "      <td>[22893, 2361, 15636, 2388, 782708]</td>\n",
       "      <td>[0.0, 1.0, 2.0, 3.0, 4.0]</td>\n",
       "      <td>5</td>\n",
       "      <td>25803.489528</td>\n",
       "    </tr>\n",
       "  </tbody>\n",
       "</table>\n",
       "<p>320 rows × 6 columns</p>\n",
       "</div>"
      ],
      "text/plain": [
       "      source_node_id  target_node_id                        hop_node_ids  \\\n",
       "6               6000            2360                  [6000, 2390, 2360]   \n",
       "8               2412            2360            [2412, 2368, 2371, 2360]   \n",
       "16              2383            2360                  [2383, 2371, 2360]   \n",
       "17              2364            2360                  [2364, 2371, 2360]   \n",
       "19              2405            2360                  [2405, 2388, 2360]   \n",
       "...              ...             ...                                 ...   \n",
       "1531            2389          235522                [2389, 2364, 235522]   \n",
       "1544            2364          321227                [2364, 2366, 321227]   \n",
       "1557            4456          517443          [4456, 2371, 2388, 517443]   \n",
       "1560            2389          517449          [2389, 2371, 2388, 517449]   \n",
       "1581           22893          782708  [22893, 2361, 15636, 2388, 782708]   \n",
       "\n",
       "                          costs  hops   distance_km  \n",
       "6               [0.0, 1.0, 2.0]     3  12710.743444  \n",
       "8          [0.0, 1.0, 2.0, 3.0]     4  27080.252706  \n",
       "16              [0.0, 1.0, 2.0]     3  13045.090625  \n",
       "17              [0.0, 1.0, 2.0]     3  16890.267257  \n",
       "19              [0.0, 1.0, 2.0]     3  10294.613418  \n",
       "...                         ...   ...           ...  \n",
       "1531            [0.0, 1.0, 2.0]     3  16208.056197  \n",
       "1544            [0.0, 1.0, 2.0]     3   6276.940293  \n",
       "1557       [0.0, 1.0, 2.0, 3.0]     4  17285.456048  \n",
       "1560       [0.0, 1.0, 2.0, 3.0]     4  20186.814340  \n",
       "1581  [0.0, 1.0, 2.0, 3.0, 4.0]     5  25803.489528  \n",
       "\n",
       "[320 rows x 6 columns]"
      ]
     },
     "execution_count": 21,
     "metadata": {},
     "output_type": "execute_result"
    }
   ],
   "source": [
    "from itertools import islice\n",
    "\n",
    "def sliding_window(elements, window_size):\n",
    "    if len(elements) <= window_size:\n",
    "       return elements\n",
    "    for i in range(len(elements)):\n",
    "        result = elements[i:i+window_size]\n",
    "        if len(result) > 1:\n",
    "            yield(elements[i:i+window_size])\n",
    "\n",
    "def estimate_dist(x):\n",
    "    distance = 0\n",
    "    for i in sliding_window(x, window_size=2):\n",
    "        tmp_df = distance_edge_df[(distance_edge_df.source_node_id == i[0]) & (distance_edge_df.target_node_id ==i[1])]\n",
    "        distance += tmp_df.distance_km.values[0]\n",
    "    return distance \n",
    "        \n",
    "distances_df[\"distance_km\"] = distances_df.hop_node_ids.map(lambda x: estimate_dist(x))\n",
    "distances_df"
   ]
  },
  {
   "cell_type": "markdown",
   "id": "be60a9fe-abca-45d8-8a87-a0ec721e0532",
   "metadata": {},
   "source": [
    "# Embeddings"
   ]
  },
  {
   "cell_type": "markdown",
   "id": "4a4eb231-678b-4fba-803b-0fde973a0933",
   "metadata": {},
   "source": [
    "#### Compute embedding for each node"
   ]
  },
  {
   "cell_type": "code",
   "execution_count": 28,
   "id": "7f31cd31",
   "metadata": {},
   "outputs": [
    {
     "data": {
      "text/html": [
       "<div>\n",
       "<style scoped>\n",
       "    .dataframe tbody tr th:only-of-type {\n",
       "        vertical-align: middle;\n",
       "    }\n",
       "\n",
       "    .dataframe tbody tr th {\n",
       "        vertical-align: top;\n",
       "    }\n",
       "\n",
       "    .dataframe thead th {\n",
       "        text-align: right;\n",
       "    }\n",
       "</style>\n",
       "<table border=\"1\" class=\"dataframe\">\n",
       "  <thead>\n",
       "    <tr style=\"text-align: right;\">\n",
       "      <th></th>\n",
       "      <th>node_id</th>\n",
       "      <th>embedding</th>\n",
       "    </tr>\n",
       "  </thead>\n",
       "  <tbody>\n",
       "    <tr>\n",
       "      <th>0</th>\n",
       "      <td>2357</td>\n",
       "      <td>[-0.002591358032077551, -0.0001265908213099464...</td>\n",
       "    </tr>\n",
       "    <tr>\n",
       "      <th>1</th>\n",
       "      <td>2358</td>\n",
       "      <td>[-0.0025690137408673763, 0.0013993990141898394...</td>\n",
       "    </tr>\n",
       "    <tr>\n",
       "      <th>2</th>\n",
       "      <td>2359</td>\n",
       "      <td>[-0.0024354991037398577, 0.0006481313612312078...</td>\n",
       "    </tr>\n",
       "    <tr>\n",
       "      <th>3</th>\n",
       "      <td>2360</td>\n",
       "      <td>[-0.0022666731383651495, 0.0016285375459119678...</td>\n",
       "    </tr>\n",
       "    <tr>\n",
       "      <th>4</th>\n",
       "      <td>2361</td>\n",
       "      <td>[-0.0021474796812981367, -0.002976446645334363...</td>\n",
       "    </tr>\n",
       "    <tr>\n",
       "      <th>...</th>\n",
       "      <td>...</td>\n",
       "      <td>...</td>\n",
       "    </tr>\n",
       "    <tr>\n",
       "      <th>724</th>\n",
       "      <td>1035413</td>\n",
       "      <td>[0.0005372625309973955, -0.0022961695212870836...</td>\n",
       "    </tr>\n",
       "    <tr>\n",
       "      <th>725</th>\n",
       "      <td>1036604</td>\n",
       "      <td>[-0.0001199006219394505, -0.000716574897523969...</td>\n",
       "    </tr>\n",
       "    <tr>\n",
       "      <th>726</th>\n",
       "      <td>1044372</td>\n",
       "      <td>[-3.771393676288426e-05, -0.002276783809065819...</td>\n",
       "    </tr>\n",
       "    <tr>\n",
       "      <th>727</th>\n",
       "      <td>1044373</td>\n",
       "      <td>[-3.561436460586265e-05, 0.001562019344419241,...</td>\n",
       "    </tr>\n",
       "    <tr>\n",
       "      <th>728</th>\n",
       "      <td>1044530</td>\n",
       "      <td>[5.606651757261716e-05, -8.10736819403246e-05,...</td>\n",
       "    </tr>\n",
       "  </tbody>\n",
       "</table>\n",
       "<p>729 rows × 2 columns</p>\n",
       "</div>"
      ],
      "text/plain": [
       "     node_id                                          embedding\n",
       "0       2357  [-0.002591358032077551, -0.0001265908213099464...\n",
       "1       2358  [-0.0025690137408673763, 0.0013993990141898394...\n",
       "2       2359  [-0.0024354991037398577, 0.0006481313612312078...\n",
       "3       2360  [-0.0022666731383651495, 0.0016285375459119678...\n",
       "4       2361  [-0.0021474796812981367, -0.002976446645334363...\n",
       "..       ...                                                ...\n",
       "724  1035413  [0.0005372625309973955, -0.0022961695212870836...\n",
       "725  1036604  [-0.0001199006219394505, -0.000716574897523969...\n",
       "726  1044372  [-3.771393676288426e-05, -0.002276783809065819...\n",
       "727  1044373  [-3.561436460586265e-05, 0.001562019344419241,...\n",
       "728  1044530  [5.606651757261716e-05, -8.10736819403246e-05,...\n",
       "\n",
       "[729 rows x 2 columns]"
      ]
     },
     "execution_count": 28,
     "metadata": {},
     "output_type": "execute_result"
    }
   ],
   "source": [
    "node_embeddings_df = gds.node2vec.stream(port_routes) \n",
    "node_embeddings_df.columns = ['node_id', 'embedding'] # rename columns for merging source side\n",
    "node_embeddings_df"
   ]
  },
  {
   "cell_type": "code",
   "execution_count": 23,
   "id": "9cf322e2",
   "metadata": {},
   "outputs": [
    {
     "data": {
      "text/plain": [
       "128"
      ]
     },
     "execution_count": 23,
     "metadata": {},
     "output_type": "execute_result"
    }
   ],
   "source": [
    "# Check embedding size\n",
    "len(node_embeddings_df.embedding.values[0])"
   ]
  },
  {
   "cell_type": "markdown",
   "id": "e962195d-4344-43f2-b9d8-1e4973193915",
   "metadata": {},
   "source": [
    "# Graph Centrality"
   ]
  },
  {
   "cell_type": "markdown",
   "id": "0c654b3d-cd17-472b-9d84-a67be748952d",
   "metadata": {},
   "source": [
    "#### Compute centralitities for each node "
   ]
  },
  {
   "cell_type": "code",
   "execution_count": 24,
   "id": "91ecb038-63e2-4c00-8fe3-4cabcc14467c",
   "metadata": {},
   "outputs": [],
   "source": [
    "# Closeness Centrality\n",
    "closeness_centrality_df = gds.closeness.stream(port_routes)\n",
    "closeness_centrality_df.columns = ['node_id', 'closeness_centrality']\n",
    "\n",
    "# Betweenness Centrality\n",
    "betweenness_centrality_df = gds.betweenness.stream(port_routes)\n",
    "betweenness_centrality_df.columns = ['node_id', 'betweenness_centrality']\n",
    "\n",
    "# Degree Centrality\n",
    "degree_centrality_df = gds.degree.stream(port_routes)\n",
    "degree_centrality_df.columns = ['node_id', 'degree_centrality']"
   ]
  },
  {
   "cell_type": "code",
   "execution_count": 25,
   "id": "27015c97-fc5d-4c99-9f21-2f554bfd9a28",
   "metadata": {},
   "outputs": [
    {
     "data": {
      "text/html": [
       "<div>\n",
       "<style scoped>\n",
       "    .dataframe tbody tr th:only-of-type {\n",
       "        vertical-align: middle;\n",
       "    }\n",
       "\n",
       "    .dataframe tbody tr th {\n",
       "        vertical-align: top;\n",
       "    }\n",
       "\n",
       "    .dataframe thead th {\n",
       "        text-align: right;\n",
       "    }\n",
       "</style>\n",
       "<table border=\"1\" class=\"dataframe\">\n",
       "  <thead>\n",
       "    <tr style=\"text-align: right;\">\n",
       "      <th></th>\n",
       "      <th>node_id</th>\n",
       "      <th>closeness_centrality</th>\n",
       "      <th>betweenness_centrality</th>\n",
       "      <th>degree_centrality</th>\n",
       "    </tr>\n",
       "  </thead>\n",
       "  <tbody>\n",
       "    <tr>\n",
       "      <th>0</th>\n",
       "      <td>2357</td>\n",
       "      <td>0.267057</td>\n",
       "      <td>274.000000</td>\n",
       "      <td>1.0</td>\n",
       "    </tr>\n",
       "    <tr>\n",
       "      <th>1</th>\n",
       "      <td>2358</td>\n",
       "      <td>0.000000</td>\n",
       "      <td>0.000000</td>\n",
       "      <td>5.0</td>\n",
       "    </tr>\n",
       "    <tr>\n",
       "      <th>2</th>\n",
       "      <td>2359</td>\n",
       "      <td>0.290749</td>\n",
       "      <td>162.234203</td>\n",
       "      <td>31.0</td>\n",
       "    </tr>\n",
       "    <tr>\n",
       "      <th>3</th>\n",
       "      <td>2360</td>\n",
       "      <td>0.435644</td>\n",
       "      <td>3447.800196</td>\n",
       "      <td>38.0</td>\n",
       "    </tr>\n",
       "    <tr>\n",
       "      <th>4</th>\n",
       "      <td>2361</td>\n",
       "      <td>0.311321</td>\n",
       "      <td>215.558261</td>\n",
       "      <td>17.0</td>\n",
       "    </tr>\n",
       "    <tr>\n",
       "      <th>...</th>\n",
       "      <td>...</td>\n",
       "      <td>...</td>\n",
       "      <td>...</td>\n",
       "      <td>...</td>\n",
       "    </tr>\n",
       "    <tr>\n",
       "      <th>724</th>\n",
       "      <td>1035413</td>\n",
       "      <td>0.000000</td>\n",
       "      <td>0.000000</td>\n",
       "      <td>0.0</td>\n",
       "    </tr>\n",
       "    <tr>\n",
       "      <th>725</th>\n",
       "      <td>1036604</td>\n",
       "      <td>0.000000</td>\n",
       "      <td>0.000000</td>\n",
       "      <td>0.0</td>\n",
       "    </tr>\n",
       "    <tr>\n",
       "      <th>726</th>\n",
       "      <td>1044372</td>\n",
       "      <td>1.000000</td>\n",
       "      <td>0.000000</td>\n",
       "      <td>0.0</td>\n",
       "    </tr>\n",
       "    <tr>\n",
       "      <th>727</th>\n",
       "      <td>1044373</td>\n",
       "      <td>0.000000</td>\n",
       "      <td>0.000000</td>\n",
       "      <td>0.0</td>\n",
       "    </tr>\n",
       "    <tr>\n",
       "      <th>728</th>\n",
       "      <td>1044530</td>\n",
       "      <td>0.000000</td>\n",
       "      <td>0.000000</td>\n",
       "      <td>0.0</td>\n",
       "    </tr>\n",
       "  </tbody>\n",
       "</table>\n",
       "<p>729 rows × 4 columns</p>\n",
       "</div>"
      ],
      "text/plain": [
       "     node_id  closeness_centrality  betweenness_centrality  degree_centrality\n",
       "0       2357              0.267057              274.000000                1.0\n",
       "1       2358              0.000000                0.000000                5.0\n",
       "2       2359              0.290749              162.234203               31.0\n",
       "3       2360              0.435644             3447.800196               38.0\n",
       "4       2361              0.311321              215.558261               17.0\n",
       "..       ...                   ...                     ...                ...\n",
       "724  1035413              0.000000                0.000000                0.0\n",
       "725  1036604              0.000000                0.000000                0.0\n",
       "726  1044372              1.000000                0.000000                0.0\n",
       "727  1044373              0.000000                0.000000                0.0\n",
       "728  1044530              0.000000                0.000000                0.0\n",
       "\n",
       "[729 rows x 4 columns]"
      ]
     },
     "execution_count": 25,
     "metadata": {},
     "output_type": "execute_result"
    }
   ],
   "source": [
    "centrality_df = closeness_centrality_df.merge(betweenness_centrality_df, on='node_id')\n",
    "centrality_df = centrality_df.merge(degree_centrality_df, on='node_id')\n",
    "centrality_df"
   ]
  },
  {
   "cell_type": "markdown",
   "id": "f69b53a7",
   "metadata": {},
   "source": [
    "## <span style=\"color:#ff5f27;\"> 🪄 Feature Groups Creation</span>\n",
    "\n",
    "A `Feature Groups` is a logical grouping of features, and experience has shown, that this grouping generally originates from the features being derived from the same data source. The `Feature Group` lets you save metadata along features, which defines how the Feature Store interprets them, combines them and reproduces training datasets created from them.\n",
    "\n",
    "Generally, the features in a feature group are engineered together in an ingestion job. However, it is possible to have additional jobs to append features to an existing feature group. Furthermore, `feature groups` provide a way of defining a namespace for features, such that you can define features with the same name multiple times, but uniquely identified by the group they are contained in.\n",
    "\n",
    "> It is important to note that `feature groups` are not groupings of features for immediate training of Machine Learning models. Instead, to ensure reusability of features, it is possible to combine features from any number of groups into training datasets."
   ]
  },
  {
   "cell_type": "code",
   "execution_count": 26,
   "id": "fa06d965",
   "metadata": {},
   "outputs": [
    {
     "name": "stdout",
     "output_type": "stream",
     "text": [
      "Connected. Call `.close()` to terminate connection gracefully.\n",
      "\n",
      "Multiple projects found. \n",
      "\n",
      "\t (1) quickstart_shared\n",
      "\t (2) marco\n"
     ]
    },
    {
     "name": "stdin",
     "output_type": "stream",
     "text": [
      "\n",
      "Enter project to access:  2\n"
     ]
    },
    {
     "name": "stdout",
     "output_type": "stream",
     "text": [
      "\n",
      "Logged in to project, explore it here https://c.app.hopsworks.ai:443/p/397461\n",
      "Connected. Call `.close()` to terminate connection gracefully.\n"
     ]
    }
   ],
   "source": [
    "# Connect to Hopsworks\n",
    "project = hopsworks.login()\n",
    "\n",
    "# Retrieve Feature Store\n",
    "fs = project.get_feature_store()"
   ]
  },
  {
   "cell_type": "markdown",
   "id": "580cd7f1-9a63-4a13-8710-74a5f6847f58",
   "metadata": {},
   "source": [
    "#### Embeddings"
   ]
  },
  {
   "cell_type": "code",
   "execution_count": 29,
   "id": "42fb0dba",
   "metadata": {},
   "outputs": [
    {
     "name": "stdout",
     "output_type": "stream",
     "text": [
      "Feature Group created successfully, explore it at \n",
      "https://c.app.hopsworks.ai:443/p/397461/fs/393284/fg/461152\n"
     ]
    },
    {
     "data": {
      "application/vnd.jupyter.widget-view+json": {
       "model_id": "16d2284a3dba4f65b8d9f699dccf9316",
       "version_major": 2,
       "version_minor": 0
      },
      "text/plain": [
       "Uploading Dataframe: 0.00% |          | Rows 0/729 | Elapsed Time: 00:00 | Remaining Time: ?"
      ]
     },
     "metadata": {},
     "output_type": "display_data"
    },
    {
     "name": "stdout",
     "output_type": "stream",
     "text": [
      "Launching job: port_embeddings_1_offline_fg_materialization\n",
      "Job started successfully, you can follow the progress at \n",
      "https://c.app.hopsworks.ai/p/397461/jobs/named/port_embeddings_1_offline_fg_materialization/executions\n"
     ]
    }
   ],
   "source": [
    "# Add current event time column\n",
    "node_embeddings_df['timestamp_added'] = pd.to_datetime(datetime.now().strftime('%Y-%m-%d %H:%M'))\n",
    "\n",
    "# Create Feature Group\n",
    "port_embeddings_fg = fs.get_or_create_feature_group(\n",
    "    name=\"port_embeddings\",\n",
    "    description=\"Embedded Spatial Positions of Ports\",\n",
    "    version=1,\n",
    "    online_enabled=True,\n",
    "    primary_key=[\"node_id\"],\n",
    "    statistics_config=False,\n",
    "    event_time='timestamp_added'\n",
    ")\n",
    "\n",
    "# Insert data in Feature Group\n",
    "port_embeddings_fg.insert(node_embeddings_df)"
   ]
  },
  {
   "cell_type": "code",
   "execution_count": 34,
   "id": "e1cf204f-bcd7-4f4b-a443-26b1973d81cc",
   "metadata": {},
   "outputs": [],
   "source": [
    "# Update feature descriptions\n",
    "feature_descriptions = [\n",
    "    {\"name\": \"node_id\", \"description\": \"Port ID\"}, \n",
    "    {\"name\": \"embedding\", \"description\": \"Embedding of Port Position in the Network\"}, \n",
    "    {\"name\": \"timestamp_added\", \"description\": \"Timestamp of Feature Group Insertion\"}\n",
    "]\n",
    "\n",
    "for desc in feature_descriptions: \n",
    "    port_embeddings_fg.update_feature_description(desc[\"name\"], desc[\"description\"])"
   ]
  },
  {
   "cell_type": "markdown",
   "id": "b11d6d43-446f-470d-9291-8c7bfcb4d4e2",
   "metadata": {},
   "source": [
    "#### Distances and Hops"
   ]
  },
  {
   "cell_type": "code",
   "execution_count": 65,
   "id": "9f38579d",
   "metadata": {},
   "outputs": [],
   "source": [
    "# Add current event time column\n",
    "distances_df['timestamp_added'] = pd.to_datetime(datetime.now().strftime('%Y-%m-%d %H:%M'))\n",
    "\n",
    "# Create Feature Group\n",
    "port_distance_fg = fs.get_or_create_feature_group(\n",
    "    name=\"port_distances\",\n",
    "    description=\"Distances of Trips\",\n",
    "    version=1,\n",
    "    online_enabled=True,\n",
    "    primary_key=[\"source_node_id\", \"target_node_id\"],\n",
    "    statistics_config=True,\n",
    "    event_time='timestamp_added'\n",
    ")"
   ]
  },
  {
   "cell_type": "code",
   "execution_count": 66,
   "id": "e3ccd0c8-dc92-4342-9867-d9da6d0619a7",
   "metadata": {},
   "outputs": [],
   "source": [
    "# Create new Great Expectation\n",
    "expectation_suite = ge.core.ExpectationSuite(expectation_suite_name=\"expectation_suite\")\n",
    "\n",
    "# Define Great Expectation\n",
    "expectation_suite.add_expectation(\n",
    "    ge.core.ExpectationConfiguration(expectation_type=\"expect_column_min_to_be_between\",\n",
    "                                     kwargs={\"column\":\"distance_km\",\n",
    "                                             \"min_value\":0.0 # Distance Cannot be Negative\n",
    "                                            }\n",
    "                                    )\n",
    ")\n",
    "expectation_suite.add_expectation(\n",
    "    ge.core.ExpectationConfiguration(expectation_type=\"expect_column_min_to_be_between\",\n",
    "                                     kwargs={\"column\":\"hops\",\n",
    "                                             \"min_value\":3 # At least one intermidiate hops\n",
    "                                            }\n",
    "                                    )\n",
    ")\n",
    "\n",
    "# Add Great Expectation to Feature Group\n",
    "port_distance_fg.save_expectation_suite(\n",
    "    expectation_suite=expectation_suite,\n",
    "    validation_ingestion_policy=\"STRICT\" # do not ingest data if validation failed\n",
    ")"
   ]
  },
  {
   "cell_type": "code",
   "execution_count": 67,
   "id": "5e667001-9c44-4558-8a1f-d85e6865d425",
   "metadata": {},
   "outputs": [
    {
     "name": "stdout",
     "output_type": "stream",
     "text": [
      "Feature Group created successfully, explore it at \n",
      "https://c.app.hopsworks.ai:443/p/397461/fs/393284/fg/461159\n",
      "2024-01-26 16:43:42,343 INFO: \t2 expectation(s) included in expectation_suite.\n",
      "Validation succeeded.\n",
      "Validation Report saved successfully, explore a summary at https://c.app.hopsworks.ai:443/p/397461/fs/393284/fg/461159\n"
     ]
    },
    {
     "data": {
      "application/vnd.jupyter.widget-view+json": {
       "model_id": "90a1631dc633401fbe87fc5a252f7d12",
       "version_major": 2,
       "version_minor": 0
      },
      "text/plain": [
       "Uploading Dataframe: 0.00% |          | Rows 0/320 | Elapsed Time: 00:00 | Remaining Time: ?"
      ]
     },
     "metadata": {},
     "output_type": "display_data"
    },
    {
     "name": "stdout",
     "output_type": "stream",
     "text": [
      "Launching job: port_distances_1_offline_fg_materialization\n",
      "Job started successfully, you can follow the progress at \n",
      "https://c.app.hopsworks.ai/p/397461/jobs/named/port_distances_1_offline_fg_materialization/executions\n"
     ]
    },
    {
     "data": {
      "text/plain": [
       "(<hsfs.core.job.Job at 0x1767f5d80>,\n",
       " {\n",
       "   \"statistics\": {\n",
       "     \"evaluated_expectations\": 2,\n",
       "     \"successful_expectations\": 2,\n",
       "     \"unsuccessful_expectations\": 0,\n",
       "     \"success_percent\": 100.0\n",
       "   },\n",
       "   \"results\": [\n",
       "     {\n",
       "       \"expectation_config\": {\n",
       "         \"expectation_type\": \"expect_column_min_to_be_between\",\n",
       "         \"kwargs\": {\n",
       "           \"column\": \"hops\",\n",
       "           \"min_value\": 3\n",
       "         },\n",
       "         \"meta\": {\n",
       "           \"expectationId\": 300035\n",
       "         }\n",
       "       },\n",
       "       \"exception_info\": {\n",
       "         \"raised_exception\": false,\n",
       "         \"exception_message\": null,\n",
       "         \"exception_traceback\": null\n",
       "       },\n",
       "       \"result\": {\n",
       "         \"observed_value\": 3,\n",
       "         \"element_count\": 320,\n",
       "         \"missing_count\": null,\n",
       "         \"missing_percent\": null\n",
       "       },\n",
       "       \"success\": true,\n",
       "       \"meta\": {\n",
       "         \"ingestionResult\": \"INGESTED\",\n",
       "         \"validationTime\": \"2024-01-26T03:43:42.000341Z\"\n",
       "       }\n",
       "     },\n",
       "     {\n",
       "       \"expectation_config\": {\n",
       "         \"expectation_type\": \"expect_column_min_to_be_between\",\n",
       "         \"kwargs\": {\n",
       "           \"column\": \"distance_km\",\n",
       "           \"min_value\": 0.0\n",
       "         },\n",
       "         \"meta\": {\n",
       "           \"expectationId\": 300036\n",
       "         }\n",
       "       },\n",
       "       \"exception_info\": {\n",
       "         \"raised_exception\": false,\n",
       "         \"exception_message\": null,\n",
       "         \"exception_traceback\": null\n",
       "       },\n",
       "       \"result\": {\n",
       "         \"observed_value\": 3042.4064814550816,\n",
       "         \"element_count\": 320,\n",
       "         \"missing_count\": null,\n",
       "         \"missing_percent\": null\n",
       "       },\n",
       "       \"success\": true,\n",
       "       \"meta\": {\n",
       "         \"ingestionResult\": \"INGESTED\",\n",
       "         \"validationTime\": \"2024-01-26T03:43:42.000341Z\"\n",
       "       }\n",
       "     }\n",
       "   ],\n",
       "   \"evaluation_parameters\": {},\n",
       "   \"success\": true,\n",
       "   \"meta\": {\n",
       "     \"great_expectations_version\": \"0.14.13\",\n",
       "     \"expectation_suite_name\": \"distance_expectation_suite\",\n",
       "     \"run_id\": {\n",
       "       \"run_time\": \"2024-01-26T15:43:42.341665+00:00\",\n",
       "       \"run_name\": null\n",
       "     },\n",
       "     \"batch_kwargs\": {\n",
       "       \"ge_batch_id\": \"aeaba9d4-bc61-11ee-8c83-a6e5112dcb0d\"\n",
       "     },\n",
       "     \"batch_markers\": {},\n",
       "     \"batch_parameters\": {},\n",
       "     \"validation_time\": \"20240126T154342.341480Z\",\n",
       "     \"expectation_suite_meta\": {\n",
       "       \"great_expectations_version\": \"0.14.13\"\n",
       "     }\n",
       "   }\n",
       " })"
      ]
     },
     "execution_count": 67,
     "metadata": {},
     "output_type": "execute_result"
    }
   ],
   "source": [
    "# Insert data in Feature Group\n",
    "port_distance_fg.insert(distances_df)"
   ]
  },
  {
   "cell_type": "code",
   "execution_count": 68,
   "id": "cba15fbd-6cbd-40d8-957c-a8db6643d1b0",
   "metadata": {},
   "outputs": [],
   "source": [
    "# Update feature descriptions\n",
    "feature_descriptions = [\n",
    "    {\"name\": \"source_node_id\", \"description\": \"Origin Port ID\"}, \n",
    "    {\"name\": \"target_node_id\", \"description\": \"Destination Port ID\"},\n",
    "    {\"name\": \"distance_km\", \"description\": \"Shortest Distance [km] between the two Ports (Dijkstra algorithm)\"},\n",
    "    {\"name\": \"hop_node_ids\", \"description\": \"Nodes to Cross, from Origin to Destination Included\"},\n",
    "    {\"name\": \"costs\", \"description\": \"Costs of All Nodes to Cross, from Origin to Destination Included\"},\n",
    "    {\"name\": \"hops\", \"description\": \"Number of Nodes to Cross, from Origin to Destination Included\"},\n",
    "    {\"name\": \"timestamp_added\", \"description\": \"Timestamp of Feature Group Insertion\"}\n",
    "]\n",
    "\n",
    "for desc in feature_descriptions: \n",
    "    port_distance_fg.update_feature_description(desc[\"name\"], desc[\"description\"])"
   ]
  },
  {
   "cell_type": "markdown",
   "id": "9b1d4956-c9c2-4134-82a9-3a1c3843fd6b",
   "metadata": {},
   "source": [
    "#### Centralities"
   ]
  },
  {
   "cell_type": "code",
   "execution_count": 77,
   "id": "4e63cdbc-176b-4c97-bd07-e8fe0b5d8da5",
   "metadata": {},
   "outputs": [],
   "source": [
    "# Add current event time column\n",
    "centrality_df['timestamp_added'] = pd.to_datetime(datetime.now().strftime('%Y-%m-%d %H:%M'))\n",
    "\n",
    "# Create Feature Group\n",
    "centrality_fg = fs.get_or_create_feature_group(\n",
    "    name=\"port_centrality\",\n",
    "    description=\"Node Centralities of Ports\",\n",
    "    version=1,\n",
    "    online_enabled=True,\n",
    "    primary_key=[\"node_id\"],\n",
    "    statistics_config=True,\n",
    "    event_time='timestamp_added'\n",
    ")"
   ]
  },
  {
   "cell_type": "code",
   "execution_count": 78,
   "id": "893a4023-e6f4-4402-98d5-088c0e1af422",
   "metadata": {},
   "outputs": [],
   "source": [
    "# Create new Great Expectation\n",
    "expectation_suite = ge.core.ExpectationSuite(expectation_suite_name=\"expectation_suite\")\n",
    "\n",
    "# Define Great Expectation\n",
    "expectation_suite.add_expectation(\n",
    "    ge.core.ExpectationConfiguration(expectation_type=\"expect_column_min_to_be_between\",\n",
    "                                     kwargs={\"column\":\"closeness_centrality\",\n",
    "                                             \"min_value\":0.0 # Closeness Centrality Cannot be Negative\n",
    "                                            }\n",
    "                                    )\n",
    ")\n",
    "expectation_suite.add_expectation(\n",
    "    ge.core.ExpectationConfiguration(expectation_type=\"expect_column_min_to_be_between\",\n",
    "                                     kwargs={\"column\":\"degree_centrality\",\n",
    "                                             \"min_value\":0.0 # Degree Centrality Cannot be Negative\n",
    "                                            }\n",
    "                                    )\n",
    ")\n",
    "\n",
    "# Add Great Expectation to Feature Group\n",
    "centrality_fg.save_expectation_suite(\n",
    "    expectation_suite=expectation_suite,\n",
    "    validation_ingestion_policy=\"STRICT\" # do not ingest data if validation failed\n",
    ")"
   ]
  },
  {
   "cell_type": "code",
   "execution_count": 79,
   "id": "ae90b12c-5dc9-4df1-9c1c-ae276b240e3c",
   "metadata": {},
   "outputs": [
    {
     "name": "stdout",
     "output_type": "stream",
     "text": [
      "Feature Group created successfully, explore it at \n",
      "https://c.app.hopsworks.ai:443/p/397461/fs/393284/fg/461161\n",
      "2024-01-26 16:48:46,187 INFO: \t2 expectation(s) included in expectation_suite.\n",
      "Validation succeeded.\n",
      "Validation Report saved successfully, explore a summary at https://c.app.hopsworks.ai:443/p/397461/fs/393284/fg/461161\n"
     ]
    },
    {
     "data": {
      "application/vnd.jupyter.widget-view+json": {
       "model_id": "5fc4582114cb43f2b6a1ea344196fd7d",
       "version_major": 2,
       "version_minor": 0
      },
      "text/plain": [
       "Uploading Dataframe: 0.00% |          | Rows 0/729 | Elapsed Time: 00:00 | Remaining Time: ?"
      ]
     },
     "metadata": {},
     "output_type": "display_data"
    },
    {
     "name": "stdout",
     "output_type": "stream",
     "text": [
      "Launching job: port_centrality_1_offline_fg_materialization\n",
      "Job started successfully, you can follow the progress at \n",
      "https://c.app.hopsworks.ai/p/397461/jobs/named/port_centrality_1_offline_fg_materialization/executions\n"
     ]
    },
    {
     "data": {
      "text/plain": [
       "(<hsfs.core.job.Job at 0x1767f1b10>,\n",
       " {\n",
       "   \"statistics\": {\n",
       "     \"evaluated_expectations\": 2,\n",
       "     \"successful_expectations\": 2,\n",
       "     \"unsuccessful_expectations\": 0,\n",
       "     \"success_percent\": 100.0\n",
       "   },\n",
       "   \"results\": [\n",
       "     {\n",
       "       \"expectation_config\": {\n",
       "         \"expectation_type\": \"expect_column_min_to_be_between\",\n",
       "         \"kwargs\": {\n",
       "           \"column\": \"closeness_centrality\",\n",
       "           \"min_value\": 0.0\n",
       "         },\n",
       "         \"meta\": {\n",
       "           \"expectationId\": 300038\n",
       "         }\n",
       "       },\n",
       "       \"exception_info\": {\n",
       "         \"raised_exception\": false,\n",
       "         \"exception_message\": null,\n",
       "         \"exception_traceback\": null\n",
       "       },\n",
       "       \"result\": {\n",
       "         \"observed_value\": 0.0,\n",
       "         \"element_count\": 729,\n",
       "         \"missing_count\": null,\n",
       "         \"missing_percent\": null\n",
       "       },\n",
       "       \"success\": true,\n",
       "       \"meta\": {\n",
       "         \"ingestionResult\": \"INGESTED\",\n",
       "         \"validationTime\": \"2024-01-26T03:48:46.000186Z\"\n",
       "       }\n",
       "     },\n",
       "     {\n",
       "       \"expectation_config\": {\n",
       "         \"expectation_type\": \"expect_column_min_to_be_between\",\n",
       "         \"kwargs\": {\n",
       "           \"column\": \"degree_centrality\",\n",
       "           \"min_value\": 0.0\n",
       "         },\n",
       "         \"meta\": {\n",
       "           \"expectationId\": 300037\n",
       "         }\n",
       "       },\n",
       "       \"exception_info\": {\n",
       "         \"raised_exception\": false,\n",
       "         \"exception_message\": null,\n",
       "         \"exception_traceback\": null\n",
       "       },\n",
       "       \"result\": {\n",
       "         \"observed_value\": 0.0,\n",
       "         \"element_count\": 729,\n",
       "         \"missing_count\": null,\n",
       "         \"missing_percent\": null\n",
       "       },\n",
       "       \"success\": true,\n",
       "       \"meta\": {\n",
       "         \"ingestionResult\": \"INGESTED\",\n",
       "         \"validationTime\": \"2024-01-26T03:48:46.000186Z\"\n",
       "       }\n",
       "     }\n",
       "   ],\n",
       "   \"evaluation_parameters\": {},\n",
       "   \"success\": true,\n",
       "   \"meta\": {\n",
       "     \"great_expectations_version\": \"0.14.13\",\n",
       "     \"expectation_suite_name\": \"expectation_suite\",\n",
       "     \"run_id\": {\n",
       "       \"run_time\": \"2024-01-26T15:48:46.186529+00:00\",\n",
       "       \"run_name\": null\n",
       "     },\n",
       "     \"batch_kwargs\": {\n",
       "       \"ge_batch_id\": \"63c6b5ac-bc62-11ee-8c83-a6e5112dcb0d\"\n",
       "     },\n",
       "     \"batch_markers\": {},\n",
       "     \"batch_parameters\": {},\n",
       "     \"validation_time\": \"20240126T154846.186344Z\",\n",
       "     \"expectation_suite_meta\": {\n",
       "       \"great_expectations_version\": \"0.14.13\"\n",
       "     }\n",
       "   }\n",
       " })"
      ]
     },
     "execution_count": 79,
     "metadata": {},
     "output_type": "execute_result"
    }
   ],
   "source": [
    "# Insert data in Feature Group\n",
    "centrality_fg.insert(centrality_df)"
   ]
  },
  {
   "cell_type": "code",
   "execution_count": 80,
   "id": "a7084553-afbb-4461-a8ca-3b89afc2972d",
   "metadata": {},
   "outputs": [],
   "source": [
    "# Update feature descriptions\n",
    "feature_descriptions = [\n",
    "    {\"name\": \"node_id\", \"description\": \"Port ID\"}, \n",
    "    {\"name\": \"closeness_centrality\", \"description\": \"Closeness Centrality\"},\n",
    "    {\"name\": \"betweenness_centrality\", \"description\": \"Betweenness Centrality\"},\n",
    "    {\"name\": \"degree_centrality\", \"description\": \"Degree Centrality\"},\n",
    "    {\"name\": \"timestamp_added\", \"description\": \"Timestamp of Feature Group Insertion\"}\n",
    "]\n",
    "\n",
    "for desc in feature_descriptions: \n",
    "    centrality_fg.update_feature_description(desc[\"name\"], desc[\"description\"])"
   ]
  },
  {
   "cell_type": "code",
   "execution_count": null,
   "id": "96ce635b-0f50-4cc8-b880-20cbb1763ed5",
   "metadata": {},
   "outputs": [],
   "source": []
  }
 ],
 "metadata": {
  "kernelspec": {
   "display_name": "myenv",
   "language": "python",
   "name": "myenv"
  },
  "language_info": {
   "codemirror_mode": {
    "name": "ipython",
    "version": 3
   },
   "file_extension": ".py",
   "mimetype": "text/x-python",
   "name": "python",
   "nbconvert_exporter": "python",
   "pygments_lexer": "ipython3",
   "version": "3.10.13"
  }
 },
 "nbformat": 4,
 "nbformat_minor": 5
}
